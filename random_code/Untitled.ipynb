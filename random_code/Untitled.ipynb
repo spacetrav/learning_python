{
 "cells": [
  {
   "cell_type": "code",
   "execution_count": 6,
   "metadata": {},
   "outputs": [
    {
     "name": "stdout",
     "output_type": "stream",
     "text": [
      "[2.76425312 6.02119184 8.65939387 2.56149715 7.73935324 1.65392074\n",
      " 7.70463491 3.10378167 5.80772326 1.03393649]\n",
      "[8.27712607 4.24292053 4.35965108 2.75441782 2.93574044 7.93658797\n",
      " 1.81824868 5.96156252 0.53237704 1.07156671]\n",
      "[2.76425312 6.02119184 8.65939387 2.56149715 7.73935324 1.65392074\n",
      " 7.70463491 3.10378167 5.80772326 1.03393649] [8.27712607 4.24292053 4.35965108 2.75441782 2.93574044 7.93658797\n",
      " 1.81824868 5.96156252 0.53237704 1.07156671]\n"
     ]
    },
    {
     "data": {
      "image/png": "[encoded data removed]",
      "text/plain": [
       "<Figure size 432x288 with 1 Axes>"
      ]
     },
     "metadata": {
      "needs_background": "light"
     },
     "output_type": "display_data"
    }
   ],
   "source": [
    "import numpy as np\n",
    "from matplotlib import pyplot as plt\n",
    "x=np.random.random(10)*10\n",
    "y=np.random.random(10)*10\n",
    "print(x)\n",
    "print(y)\n",
    "print(x,y)\n",
    "\n",
    "# input=(\"/nPress Enter to Plot\")\n",
    "plt.scatter(x,y)\n",
    "plt.show()"
   ]
  },
  {
   "cell_type": "code",
   "execution_count": null,
   "metadata": {},
   "outputs": [],
   "source": [
    "\n"
   ]
  },
  {
   "cell_type": "code",
   "execution_count": null,
   "metadata": {},
   "outputs": [],
   "source": []
  }
 ],
 "metadata": {
  "kernelspec": {
   "display_name": "Python 3",
   "language": "python",
   "name": "python3"
  },
  "language_info": {
   "codemirror_mode": {
    "name": "ipython",
    "version": 3
   },
   "file_extension": ".py",
   "mimetype": "text/x-python",
   "name": "python",
   "nbconvert_exporter": "python",
   "pygments_lexer": "ipython3",
   "version": "3.7.4"
  }
 },
 "nbformat": 4,
 "nbformat_minor": 2
}
